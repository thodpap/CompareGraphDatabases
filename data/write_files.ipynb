{
 "cells": [
  {
   "cell_type": "code",
   "execution_count": 2,
   "metadata": {},
   "outputs": [],
   "source": [
    "def compile(file_in, file_out, Nodes, up = True): # Nodes is the number of Nodes you want to go to\n",
    "    import random\n",
    "    maxi = 0\n",
    "    d = dict()\n",
    "    for i in range(1,Nodes+2):\n",
    "        d[i] = []\n",
    "\n",
    "    with open(file_in, \"r\") as f_in:\n",
    "        with open(file_out, \"w\") as f_out:\n",
    "            # skip 2 lines\n",
    "            print(f_in.readline())\n",
    "            print(f_in.readline())\n",
    "            while (line := f_in.readline()):\n",
    "                arr = [int(q) for q in line.replace('\\n', '').split(' ')]\n",
    "                a,b = arr[0:2]\n",
    "                \n",
    "                if not up:\n",
    "                    if a > Nodes and b > Nodes:\n",
    "                        a = random.randint(1, Nodes//2)\n",
    "                        b = random.randint(Nodes//2, Nodes+1)\n",
    "                    elif a > Nodes:\n",
    "                        a = random.randint(1, Nodes+1)\n",
    "                    elif b > Nodes:\n",
    "                        b = random.randint(1, Nodes+1)\n",
    "                \n",
    "                maxi = max(maxi, a, b)\n",
    "                d[a].append(b)\n",
    "                d[b].append(a)\n",
    "                f_out.write(str(a) + \" \" + str(b) + \"\\n\")\n",
    "\n",
    "            if up:\n",
    "                for edge in range(maxi + 1, Nodes+1):\n",
    "                    for _ in range(12 - random.randint(0, 4), 12+ random.randint(0,4)): \n",
    "                        b = random.randint(1, Nodes+1) \n",
    "\n",
    "                        if edge == b:\n",
    "                            b  = (b + 1) % (Nodes+1)\n",
    "                        if b not in d[edge] and edge not in d[b]:\n",
    "                            d[edge].append(b)\n",
    "                            d[b].append(edge)\n",
    "                            f_out.write(str(edge) + \" \" + str(b) + \"\\n\")"
   ]
  },
  {
   "cell_type": "code",
   "execution_count": 3,
   "metadata": {},
   "outputs": [
    {
     "name": "stdout",
     "output_type": "stream",
     "text": [
      "%MatrixMarket matrix coordinate pattern symmetric \n",
      "\n",
      "10004 10004 362894\n",
      "\n",
      "%MatrixMarket matrix coordinate pattern symmetric \n",
      "\n",
      "3097165 3097165 23667394\n",
      "\n"
     ]
    }
   ],
   "source": [
    "compile(\"socfb-Bingham82.mtx\", \"10k.txt\", 10000, False)\n",
    "compile(\"socfb-A-anon.mtx\", \"1M.txt\", 1000000, False)"
   ]
  },
  {
   "cell_type": "code",
   "execution_count": 4,
   "metadata": {},
   "outputs": [
    {
     "name": "stdout",
     "output_type": "stream",
     "text": [
      "% sym unweighted\n",
      "\n",
      "% 1269502 63731 63731\n",
      "\n"
     ]
    }
   ],
   "source": [
    "compile(\"socfb-wosn-friends.edges\", \"100k.txt\", 100000, True)"
   ]
  },
  {
   "cell_type": "code",
   "execution_count": null,
   "metadata": {},
   "outputs": [],
   "source": []
  }
 ],
 "metadata": {
  "kernelspec": {
   "display_name": "Python 3",
   "language": "python",
   "name": "python3"
  },
  "language_info": {
   "codemirror_mode": {
    "name": "ipython",
    "version": 3
   },
   "file_extension": ".py",
   "mimetype": "text/x-python",
   "name": "python",
   "nbconvert_exporter": "python",
   "pygments_lexer": "ipython3",
   "version": "3.8.10"
  },
  "orig_nbformat": 4,
  "vscode": {
   "interpreter": {
    "hash": "916dbcbb3f70747c44a77c7bcd40155683ae19c65e1c03b4aa3499c5328201f1"
   }
  }
 },
 "nbformat": 4,
 "nbformat_minor": 2
}
